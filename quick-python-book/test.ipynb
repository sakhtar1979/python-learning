{
  "cells": [
    {
      "cell_type": "code",
      "execution_count": 18,
      "id": "a96688f4",
      "metadata": {
        "colab": {
          "base_uri": "https://localhost:8080/"
        },
        "id": "a96688f4",
        "outputId": "51f9dd14-0892-48e4-dd55-2ddb9a659e07"
      },
      "outputs": [
        {
          "output_type": "execute_result",
          "data": {
            "text/plain": [
              "3"
            ]
          },
          "metadata": {},
          "execution_count": 18
        }
      ],
      "source": [
        "import math\n",
        "math.floor(3.49)"
      ]
    },
    {
      "cell_type": "code",
      "source": [
        "x = [\"first\", \"second\", \"third\", \"fourth\"]\n",
        "x[:2]"
      ],
      "metadata": {
        "id": "rRA5KSpGW2WJ",
        "outputId": "0a6484fa-74e0-453b-acaf-8b1fb51f25d3",
        "colab": {
          "base_uri": "https://localhost:8080/"
        }
      },
      "id": "rRA5KSpGW2WJ",
      "execution_count": 56,
      "outputs": [
        {
          "output_type": "execute_result",
          "data": {
            "text/plain": [
              "['first', 'second']"
            ]
          },
          "metadata": {},
          "execution_count": 56
        }
      ]
    },
    {
      "cell_type": "code",
      "source": [
        "x = [1, 2, 3, 4, 5, 6, 7, 8, 9]\n",
        "x[1] = \"two\"\n",
        "x[8:9] = []\n",
        "x"
      ],
      "metadata": {
        "id": "QDpLH_UlY518",
        "outputId": "fd8ea9da-208c-47cc-c22c-8a672faf8cb2",
        "colab": {
          "base_uri": "https://localhost:8080/"
        }
      },
      "id": "QDpLH_UlY518",
      "execution_count": 60,
      "outputs": [
        {
          "output_type": "execute_result",
          "data": {
            "text/plain": [
              "[1, 'two', 3, 4, 5, 6, 7, 8]"
            ]
          },
          "metadata": {},
          "execution_count": 60
        }
      ]
    },
    {
      "cell_type": "code",
      "source": [
        "x = True\n",
        "x =  not x\n",
        "x"
      ],
      "metadata": {
        "id": "uEsBRm7iRw3S",
        "outputId": "8933220b-832f-4f3b-94d9-7a609d2edbf7",
        "colab": {
          "base_uri": "https://localhost:8080/"
        }
      },
      "id": "uEsBRm7iRw3S",
      "execution_count": 28,
      "outputs": [
        {
          "output_type": "execute_result",
          "data": {
            "text/plain": [
              "False"
            ]
          },
          "metadata": {},
          "execution_count": 28
        }
      ]
    },
    {
      "cell_type": "code",
      "source": [
        "x = True\n",
        "not x\n",
        "x"
      ],
      "metadata": {
        "id": "sgb350jvUSyx",
        "outputId": "7dd70be4-620f-496c-82b6-7099fcdf480e",
        "colab": {
          "base_uri": "https://localhost:8080/"
        }
      },
      "id": "sgb350jvUSyx",
      "execution_count": 34,
      "outputs": [
        {
          "output_type": "execute_result",
          "data": {
            "text/plain": [
              "True"
            ]
          },
          "metadata": {},
          "execution_count": 34
        }
      ]
    },
    {
      "cell_type": "code",
      "source": [
        "x = [\"first\", \"second\", \"third\", \"fourth\"]\n",
        "x[1:-1]"
      ],
      "metadata": {
        "id": "vMGWL62qU_Py",
        "outputId": "e07d67f9-66f3-4a24-ecf6-16e59fed42c8",
        "colab": {
          "base_uri": "https://localhost:8080/"
        }
      },
      "id": "vMGWL62qU_Py",
      "execution_count": 51,
      "outputs": [
        {
          "output_type": "execute_result",
          "data": {
            "text/plain": [
              "['second', 'third']"
            ]
          },
          "metadata": {},
          "execution_count": 51
        }
      ]
    },
    {
      "cell_type": "code",
      "source": [
        "x = [1, 2, 3, 4, 5, 6, 7, 8, 9,10]\n",
        "x[1] = \"two\"\n",
        "x[8:9] = []\n",
        "x"
      ],
      "metadata": {
        "id": "dkJTG43OdcNG",
        "outputId": "902014ef-e861-4840-acfd-3b99171028f0",
        "colab": {
          "base_uri": "https://localhost:8080/"
        }
      },
      "id": "dkJTG43OdcNG",
      "execution_count": 70,
      "outputs": [
        {
          "output_type": "execute_result",
          "data": {
            "text/plain": [
              "[1, 'two', 3, 4, 5, 6, 7, 8, 10]"
            ]
          },
          "metadata": {},
          "execution_count": 70
        }
      ]
    },
    {
      "cell_type": "code",
      "source": [
        "x = [1, 2, 3, 4, 5, 6, 7, 8, 9]\n",
        "len(x)\n",
        "[-1, 0] + x"
      ],
      "metadata": {
        "id": "QjeiZXwSeCvg",
        "outputId": "0699f838-6fe1-475b-a44c-3806302709ad",
        "colab": {
          "base_uri": "https://localhost:8080/"
        }
      },
      "id": "QjeiZXwSeCvg",
      "execution_count": 72,
      "outputs": [
        {
          "output_type": "execute_result",
          "data": {
            "text/plain": [
              "[-1, 0, 1, 2, 3, 4, 5, 6, 7, 8, 9]"
            ]
          },
          "metadata": {},
          "execution_count": 72
        }
      ]
    },
    {
      "cell_type": "code",
      "source": [
        "x = [-1, 0, 1, 2, 3, 4, 5, 6, 7, 8, 9]\n",
        "\n",
        "x.reverse()\n",
        "x"
      ],
      "metadata": {
        "id": "6f_KVi9wg_4x",
        "outputId": "a1e7fac2-e911-4810-a5cc-4d01aae1078a",
        "colab": {
          "base_uri": "https://localhost:8080/"
        }
      },
      "id": "6f_KVi9wg_4x",
      "execution_count": 79,
      "outputs": [
        {
          "output_type": "execute_result",
          "data": {
            "text/plain": [
              "[9, 8, 7, 6, 5, 4, 3, 2, 1, 0, -1]"
            ]
          },
          "metadata": {},
          "execution_count": 79
        }
      ]
    },
    {
      "cell_type": "code",
      "source": [],
      "metadata": {
        "id": "nFuQ0MlGhn1f"
      },
      "id": "nFuQ0MlGhn1f",
      "execution_count": null,
      "outputs": []
    },
    {
      "cell_type": "markdown",
      "source": [
        "Tuples are like lists but immutable"
      ],
      "metadata": {
        "id": "L1DaWf84hoI9"
      },
      "id": "L1DaWf84hoI9"
    },
    {
      "cell_type": "code",
      "source": [
        "x = (1,2,3,3,3)\n",
        "print(x.count(2))"
      ],
      "metadata": {
        "id": "42zIV_p9hv_6",
        "outputId": "59ca9656-9f30-4fa8-c764-01acba755dcc",
        "colab": {
          "base_uri": "https://localhost:8080/"
        }
      },
      "id": "42zIV_p9hv_6",
      "execution_count": 86,
      "outputs": [
        {
          "output_type": "stream",
          "name": "stdout",
          "text": [
            "1\n"
          ]
        }
      ]
    },
    {
      "cell_type": "code",
      "source": [],
      "metadata": {
        "id": "25vN8ft5i9BU"
      },
      "id": "25vN8ft5i9BU",
      "execution_count": null,
      "outputs": []
    }
  ],
  "metadata": {
    "kernelspec": {
      "display_name": "Python 3",
      "language": "python",
      "name": "python3"
    },
    "language_info": {
      "codemirror_mode": {
        "name": "ipython",
        "version": 3
      },
      "file_extension": ".py",
      "mimetype": "text/x-python",
      "name": "python",
      "nbconvert_exporter": "python",
      "pygments_lexer": "ipython3",
      "version": "3.12.1"
    },
    "colab": {
      "provenance": []
    }
  },
  "nbformat": 4,
  "nbformat_minor": 5
}